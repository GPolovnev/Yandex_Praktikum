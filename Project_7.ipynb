{
 "cells": [
  {
   "cell_type": "markdown",
   "metadata": {},
   "source": [
    "<div style=\"background: #cceeaa; padding: 5px; border: 1px solid green; border-radius: 5px;\">\n",
    "    <font color='green'> <b><u>КОММЕНТАРИЙ РЕВЬЮЕРА</u></b>\n",
    "\n",
    "Георгий, доброго дня! рад приветствовать тебя вновь) <br />\n",
    "(а дальше шаболонная обязательная часть, как ты заметил по другим спринтам)\n",
    "<br />\n",
    "Меня зовут Николай Шавлюго. <br />И на этом этапе твоего движения к новой профессии от меня будут комментарии по написанному коду. <br />Чтобы меньше \"мусорить эфир\" и чтобы максимально наглядно отделяться от основного кода, есть предложение условиться в некоторых обозначениях:<br /> <br />\n",
    "<u><b>ТАКОЙ ШРИФТ</b></u> - всегда начало комментария <br />\n",
    "<font color='green'>такой шрифт</font> - комментарии о том, что всё ОК <br/>\n",
    "<font color='orange'>такой шрифт</font> - комментарии о том, что всё ОК по результату,<br> однако есть на что обратить внимание в плане применения техник, или есть способы сделать более короткий или быстрый код <br/>\n",
    "<font color='red'>такой шрифт</font> - комментарии о том, что есть критичный момент, влияющий на бизнес-результат проекта.<br/>\n",
    "</font><br /><br />\n",
    "<font color='green'>Моей целью является не \"уличить\" в не знании, а просто высказать сверху твоих знаний - свой опыт, что бы ты мог использовать его для своего дальнейшего успеха) И очень здорово будет, если тебе удастся задавать вопросы, да и вообще - всячески доставать меня, если я по каким-то причинам не приму проект:) При этом, из своего опыта скажу, хорошо и важно, когда переписка ревьюера и студента - сохраняется на следующие проекты и даже на будущую практическую деятельность.<br>\n",
    "<BR> В ПУТЬ!<br>"
   ]
  },
  {
   "cell_type": "markdown",
   "metadata": {},
   "source": [
    "# Выбор локации для скважины"
   ]
  },
  {
   "cell_type": "markdown",
   "metadata": {},
   "source": [
    "Допустим, вы работаете в добывающей компании «ГлавРосГосНефть». Нужно решить, где бурить новую скважину.\n",
    "\n",
    "Вам предоставлены пробы нефти в трёх регионах: в каждом 10 000 месторождений, где измерили качество нефти и объём её запасов. Постройте модель машинного обучения, которая поможет определить регион, где добыча принесёт наибольшую прибыль. Проанализируйте возможную прибыль и риски техникой *Bootstrap.*\n",
    "\n",
    "Шаги для выбора локации:\n",
    "\n",
    "- В избранном регионе ищут месторождения, для каждого определяют значения признаков;\n",
    "- Строят модель и оценивают объём запасов;\n",
    "- Выбирают месторождения с самым высокими оценками значений. Количество месторождений зависит от бюджета компании и стоимости разработки одной скважины;\n",
    "- Прибыль равна суммарной прибыли отобранных месторождений."
   ]
  },
  {
   "cell_type": "markdown",
   "metadata": {},
   "source": [
    "<div class=\"alert alert-block alert-warning\">\n",
    "<b>Комментарий:</b> Привет, я прислал черновой вариант своего проекта, потому что к сожалению он дался мне прям со скрипом почему-то... В чате ребята пишут что у них результаты совсем другие, а я ошибку свою не вижу. Пожалуйста посмотри в чем я прав в чем нет, заранее спасибо за проверку\n",
    "</div>\n"
   ]
  },
  {
   "cell_type": "markdown",
   "metadata": {},
   "source": [
    "<div style=\"background: #cceeaa; padding: 5px; border: 1px solid green; border-radius: 5px;\">\n",
    "<font color='green'> \n",
    "    <b><u>КОММЕНТАРИЙ РЕВЬЮЕРА</u></b>\n",
    "<font color='green'><br>ОК, договорились)"
   ]
  },
  {
   "cell_type": "markdown",
   "metadata": {},
   "source": [
    "## Загрузка и подготовка данных"
   ]
  },
  {
   "cell_type": "code",
   "execution_count": 1,
   "metadata": {},
   "outputs": [],
   "source": [
    "import pandas as pd\n",
    "import numpy as np\n",
    "from sklearn.linear_model import LinearRegression\n",
    "from sklearn.model_selection import train_test_split\n",
    "from sklearn.metrics import mean_absolute_error\n",
    "from sklearn.metrics import mean_squared_error\n",
    "import numpy as np\n",
    "import matplotlib.pyplot as plt\n",
    "from scipy import stats\n",
    "\n",
    "\n",
    "def line():\n",
    "    print('-------------------------------------------------')"
   ]
  },
  {
   "cell_type": "code",
   "execution_count": 2,
   "metadata": {},
   "outputs": [
    {
     "name": "stdout",
     "output_type": "stream",
     "text": [
      "-------------------------------------------------\n",
      "<class 'pandas.core.frame.DataFrame'>\n",
      "RangeIndex: 100000 entries, 0 to 99999\n",
      "Data columns (total 4 columns):\n",
      "f0         100000 non-null float64\n",
      "f1         100000 non-null float64\n",
      "f2         100000 non-null float64\n",
      "product    100000 non-null float64\n",
      "dtypes: float64(4)\n",
      "memory usage: 3.1 MB\n",
      "None\n",
      "-------------------------------------------------\n",
      "<class 'pandas.core.frame.DataFrame'>\n",
      "RangeIndex: 100000 entries, 0 to 99999\n",
      "Data columns (total 4 columns):\n",
      "f0         100000 non-null float64\n",
      "f1         100000 non-null float64\n",
      "f2         100000 non-null float64\n",
      "product    100000 non-null float64\n",
      "dtypes: float64(4)\n",
      "memory usage: 3.1 MB\n",
      "None\n",
      "-------------------------------------------------\n",
      "<class 'pandas.core.frame.DataFrame'>\n",
      "RangeIndex: 100000 entries, 0 to 99999\n",
      "Data columns (total 4 columns):\n",
      "f0         100000 non-null float64\n",
      "f1         100000 non-null float64\n",
      "f2         100000 non-null float64\n",
      "product    100000 non-null float64\n",
      "dtypes: float64(4)\n",
      "memory usage: 3.1 MB\n",
      "None\n",
      "-------------------------------------------------\n"
     ]
    }
   ],
   "source": [
    "data_geo_0 = pd.read_csv('/datasets/geo_data_0.csv')\n",
    "data_geo_1 = pd.read_csv('/datasets/geo_data_1.csv')\n",
    "data_geo_2 = pd.read_csv('/datasets/geo_data_2.csv')\n",
    "\n",
    "data_geo_0 = data_geo_0.drop(['id'], axis = 1)\n",
    "\n",
    "data_geo_1 = data_geo_1.drop(['id'], axis = 1)\n",
    "\n",
    "data_geo_2 = data_geo_2.drop(['id'], axis = 1)\n",
    "\n",
    "line()\n",
    "print(data_geo_0.info())\n",
    "line()\n",
    "print(data_geo_1.info())\n",
    "line()\n",
    "print(data_geo_2.info())\n",
    "line()"
   ]
  },
  {
   "cell_type": "markdown",
   "metadata": {},
   "source": [
    "<div style=\"background: #cceeaa; padding: 5px; border: 1px solid green; border-radius: 5px;\">\n",
    "    <font color='green'> <b><u>КОММЕНТАРИЙ РЕВЬЮЕРА</u></b>\n",
    "</font>\n",
    "<font color='green'><br>Данные на базе) Тут хорошо бы результировать увиденное: пропуски, анаомалии... т.е. итоги аналитического раздела. Также, хорошо бы посмотреть кореляции и провести графический анализ (собственно это для каждого проекта одинаково)"
   ]
  },
  {
   "cell_type": "markdown",
   "metadata": {},
   "source": [
    "## Обучение и проверка модели"
   ]
  },
  {
   "cell_type": "code",
   "execution_count": 3,
   "metadata": {},
   "outputs": [
    {
     "name": "stdout",
     "output_type": "stream",
     "text": [
      "(75000,) (25000,)\n",
      "(75000,) (25000,)\n",
      "(75000,) (25000,)\n"
     ]
    }
   ],
   "source": [
    "# Разделим признаки и цели по каждому региону\n",
    "\n",
    "features_geo_0 = data_geo_0.drop(['product'], axis = 1)\n",
    "target_geo_0 = data_geo_0['product']\n",
    "\n",
    "features_geo_1 = data_geo_1.drop(['product'], axis = 1)\n",
    "target_geo_1 = data_geo_1['product']\n",
    "\n",
    "features_geo_2 = data_geo_2.drop(['product'], axis = 1)\n",
    "target_geo_2 = data_geo_2['product']\n",
    "\n",
    "features_train_geo_0, features_valid_geo_0, target_train_geo_0, target_valid_geo_0 = train_test_split(\n",
    "    features_geo_0, target_geo_0, test_size = 0.25, random_state = 12345)\n",
    "\n",
    "features_train_geo_1, features_valid_geo_1, target_train_geo_1, target_valid_geo_1 = train_test_split(\n",
    "    features_geo_1, target_geo_1, test_size = 0.25, random_state = 12345)\n",
    "\n",
    "features_train_geo_2, features_valid_geo_2, target_train_geo_2, target_valid_geo_2 = train_test_split(\n",
    "    features_geo_2, target_geo_2, test_size = 0.25, random_state = 12345)\n",
    "\n",
    "# Проверим размерность наборов: тренировочного и тестового\n",
    "\n",
    "print(target_train_geo_0.shape, target_valid_geo_0.shape)\n",
    "print(target_train_geo_1.shape, target_valid_geo_1.shape)\n",
    "print(target_train_geo_2.shape, target_valid_geo_2.shape)"
   ]
  },
  {
   "cell_type": "code",
   "execution_count": 4,
   "metadata": {},
   "outputs": [
    {
     "name": "stdout",
     "output_type": "stream",
     "text": [
      "RMSE для региона №1 37.5794217150813\n",
      "Cредний запас предсказанного сырья для региона 92.59256778438038 \n",
      "\n",
      "RMSE для региона №2 0.893099286775616\n",
      "Cредний запас предсказанного сырья для региона 68.728546895446 \n",
      "\n",
      "RMSE для региона №3 40.02970873393434\n",
      "Cредний запас предсказанного сырья для региона 94.96504596800489 \n",
      "\n"
     ]
    }
   ],
   "source": [
    "# Обучим модели, для удобства создадим массив с тренировочными и валидными наборами\n",
    "\n",
    "mass_train_features = [features_train_geo_0, features_train_geo_1, features_train_geo_2]\n",
    "mass_train_targets = [target_train_geo_0, target_train_geo_1, target_train_geo_2]\n",
    "\n",
    "mass_valid_features = [features_valid_geo_0, features_valid_geo_1, features_valid_geo_2]\n",
    "mass_valid_targets = [target_valid_geo_0, target_valid_geo_1, target_valid_geo_2]\n",
    "\n",
    "mass_predictions = []\n",
    "\n",
    "for num_geo in range(len(mass_train_features)):\n",
    "    model = LinearRegression()\n",
    "    model.fit(mass_train_features[num_geo], mass_train_targets[num_geo])\n",
    "    predictions = model.predict(mass_valid_features[num_geo])\n",
    "    mass_predictions.append(pd.Series(predictions))\n",
    "    print('RMSE для региона №' + str(num_geo + 1), mean_squared_error(mass_valid_targets[num_geo], predictions) ** 0.5)\n",
    "    print('Cредний запас предсказанного сырья для региона', predictions.mean(), '\\n')"
   ]
  },
  {
   "cell_type": "markdown",
   "metadata": {},
   "source": [
    "Комментарий: По полученным данным мы определили, что в среднем в первом и втором регионе наша модель предсказывает значения хуже чем во втором. НО самый большой запас сырья по предсказаниям находится в третьем регионе"
   ]
  },
  {
   "cell_type": "markdown",
   "metadata": {},
   "source": [
    "<div style=\"background: #cceeaa; padding: 5px; border: 1px solid green; border-radius: 5px;\">\n",
    "    <font color='green'> <b><u>КОММЕНТАРИЙ РЕВЬЮЕРА</u></b>\n",
    "</font>\n",
    "<font color='green'><br>отлично,согласен с результатами. Маленькая ошибка в регионе 2 - следствие высокой корреляции f2 и целевой. <br>\n",
    "И код тебе удалось написать достаточно ёмкий)"
   ]
  },
  {
   "cell_type": "markdown",
   "metadata": {},
   "source": [
    "## Подготовка к расчёту прибыли"
   ]
  },
  {
   "cell_type": "code",
   "execution_count": 5,
   "metadata": {},
   "outputs": [
    {
     "name": "stdout",
     "output_type": "stream",
     "text": [
      "Для безубыточной разработки необходимо чтобы одна скважина добывала не менее: 112 тыс. баррелей \n",
      "\n",
      "В среднем первый регион добывает: 93 тыс. баррелей\n",
      "В среднем второй регион добывает: 69 тыс. баррелей\n",
      "В среднем третий регион добывает: 95 тыс. баррелей\n",
      "10000000000\n"
     ]
    }
   ],
   "source": [
    "# Ключевые значения\n",
    "\n",
    "budget = 10 ** 10\n",
    "revenue_barrel = 450000\n",
    "count_borehole = 200\n",
    "\n",
    "# Достаточное количество добычи нефти, для безубыточности\n",
    "\n",
    "sufficient_volume = budget / revenue_barrel / count_borehole\n",
    "\n",
    "print('Для безубыточной разработки необходимо чтобы одна скважина добывала не менее:', round(sufficient_volume + 1), 'тыс. баррелей \\n')\n",
    "\n",
    "# Рассчитаем средний запас по каждому региону\n",
    "\n",
    "print('В среднем первый регион добывает:', round(data_geo_0['product'].mean()), 'тыс. баррелей')\n",
    "print('В среднем второй регион добывает:', round(data_geo_1['product'].mean()), 'тыс. баррелей')\n",
    "print('В среднем третий регион добывает:', round(data_geo_2['product'].mean()), 'тыс. баррелей')\n",
    "print(budget)"
   ]
  },
  {
   "cell_type": "markdown",
   "metadata": {},
   "source": [
    "Комментарий: Данный шаг нам показывает, что во первых третий регион превосходит своих конкурентов по средней добыче, а значит предсказания модели верны, также мы выяснили что одна скважина дожна добывать не менее 112 тыс. баррелей для того чтобы окупить вложенные деньги"
   ]
  },
  {
   "cell_type": "markdown",
   "metadata": {},
   "source": [
    "<div style=\"background: #cceeaa; padding: 5px; border: 1px solid green; border-radius: 5px;\">\n",
    "<font color='green'> \n",
    "    <b><u>КОММЕНТАРИЙ РЕВЬЮЕРА</u></b>\n",
    "<font color='red'><br>\n",
    "есть точка безубыточности) Но там с размерностью бюджета чуть надо скорретировать (112 тыс ожидается).  итогда вывоод по регионам будет не утешительный.."
   ]
  },
  {
   "cell_type": "markdown",
   "metadata": {},
   "source": [
    "<div class=\"alert alert-block alert-warning\">\n",
    "<b>Комментарий:</b> Невнимательность... При таком раскладе у нас не очень утешительный прогноз, действительно одна скважина должна добывать не менее 112 тыс. баррелей, а средние значения по каждому из регионов меньше. Т.е мы должны выбирать только самые лучшие месторождения и не имеем право на сильное отклонение\n",
    "</div>"
   ]
  },
  {
   "cell_type": "markdown",
   "metadata": {},
   "source": [
    "<div style=\"background: #cceeaa; padding: 5px; border: 1px solid green; border-radius: 5px;\">\n",
    "    <font color='green'> <b><u>КОММЕНТАРИЙ РЕВЬЮЕРА 2</u></b>\n",
    "</font>\n",
    "<font color='green'><br>ОК"
   ]
  },
  {
   "cell_type": "markdown",
   "metadata": {},
   "source": [
    "## Расчёт прибыли и рисков "
   ]
  },
  {
   "cell_type": "code",
   "execution_count": 8,
   "metadata": {},
   "outputs": [
    {
     "name": "stdout",
     "output_type": "stream",
     "text": [
      "Прибыль региона №1 3.3208260431398524\n",
      "Прибыль региона №2 2.4150866966815108\n",
      "Прибыль региона №3 2.7103499635998327\n"
     ]
    }
   ],
   "source": [
    "def revenue(target, probabilities, count):\n",
    "    probs_sorted = probabilities.sort_values(ascending=False)\n",
    "    selected = target[probs_sorted.index][:count].sum()\n",
    "    price = selected * revenue_barrel\n",
    "    return (price - budget) / 10 ** 9\n",
    "\n",
    "for i in range(3):\n",
    "   # print('Прибыль региона №' +  str(i + 1), revenue(mass_valid_targets[i], mass_predictions[i], 200))\n",
    "    print('Прибыль региона №' +  str(i + 1), revenue(mass_valid_targets[i].reset_index(drop=True), mass_predictions[i], 200))\n",
    "\n",
    "# ТУТ ИНДЕКСАЦИЮ НАДО СБРОСИТЬ У ТАРГЕТА)"
   ]
  },
  {
   "cell_type": "markdown",
   "metadata": {},
   "source": [
    "Комментарий: Самый прибыльный регион, это третий регион"
   ]
  },
  {
   "cell_type": "markdown",
   "metadata": {},
   "source": [
    "<div class=\"alert alert-block alert-warning\">\n",
    "<b>Комментарий:</b> Тут я понял свою ошибку. Тогда мы наблюдаем совсем другую картину, самый прибыльный регион теперь регион под №1\n",
    "</div>"
   ]
  },
  {
   "cell_type": "markdown",
   "metadata": {},
   "source": [
    "<div style=\"background: #cceeaa; padding: 5px; border: 1px solid green; border-radius: 5px;\">\n",
    "<font color='green'> \n",
    "    <b><u>КОММЕНТАРИЙ РЕВЬЮЕРА 2</u></b>\n",
    "<font color='green'><br>ОК, принято)"
   ]
  },
  {
   "cell_type": "markdown",
   "metadata": {},
   "source": [
    "## Bootstrap"
   ]
  },
  {
   "cell_type": "code",
   "execution_count": 7,
   "metadata": {},
   "outputs": [
    {
     "name": "stdout",
     "output_type": "stream",
     "text": [
      "95%-й доверительный интервал: (-0.10209009483793655 : 0.9479763533583688)\n",
      "Средняя прибыль: 0.42593852691059236\n",
      "Риск убытка: 6.0\n"
     ]
    },
    {
     "data": {
      "image/png": "[encoded data removed]",
      "text/plain": [
       "<Figure size 432x288 with 1 Axes>"
      ]
     },
     "metadata": {
      "needs_background": "light"
     },
     "output_type": "display_data"
    },
    {
     "name": "stdout",
     "output_type": "stream",
     "text": [
      "95%-й доверительный интервал: (0.1281232314330863 : 0.9536129820669086)\n",
      "Средняя прибыль: 0.5182594936973248\n",
      "Риск убытка: 0.3\n"
     ]
    },
    {
     "data": {
      "image/png": "[encoded data removed]",
      "text/plain": [
       "<Figure size 432x288 with 1 Axes>"
      ]
     },
     "metadata": {
      "needs_background": "light"
     },
     "output_type": "display_data"
    },
    {
     "name": "stdout",
     "output_type": "stream",
     "text": [
      "95%-й доверительный интервал: (-0.11585260916001143 : 0.989629939844574)\n",
      "Средняя прибыль: 0.4201940053440501\n",
      "Риск убытка: 6.2\n"
     ]
    },
    {
     "data": {
      "image/png": "[encoded data removed]",
      "text/plain": [
       "<Figure size 432x288 with 1 Axes>"
      ]
     },
     "metadata": {
      "needs_background": "light"
     },
     "output_type": "display_data"
    }
   ],
   "source": [
    "values = [[],[],[]]\n",
    "state = np.random.RandomState(12345)\n",
    "\n",
    "for i in range(3):\n",
    "    for j in range(1000):\n",
    "       # target_sample = mass_valid_targets[i].sample(n = 500, replace = True, random_state=state)\n",
    "        target_sample = mass_valid_targets[i].reset_index(drop=True).sample(n = 500, replace = True, random_state=state)\n",
    "        probs_subsample = mass_predictions[i][target_sample.index]\n",
    "        #values[i].append(revenue(probs_subsample, target_sample, 200)) # !!!!! во здесь очерёдность подачи в функцию надо изменить...\n",
    "        \n",
    "        # Заменил\n",
    "        values[i].append(revenue(target_sample, probs_subsample, 200))\n",
    "        \n",
    "    values[i] = pd.Series(values[i])\n",
    "    values[i].hist()\n",
    "    print('95%-й доверительный интервал: (' + str(values[i].quantile(0.025)) + ' : ' + str(values[i].quantile(0.975)) + ')')\n",
    "    print('Средняя прибыль:', values[i].mean())\n",
    "    print('Риск убытка:', stats.percentileofscore(values[i], 0))\n",
    "    plt.show()"
   ]
  },
  {
   "cell_type": "markdown",
   "metadata": {},
   "source": [
    "Комментарий: С помощью Bootstrap мы определили, доверительный интервал для регионов, и лучшими показателями вновь обладает третий регион, и шанс убытков равен 0"
   ]
  },
  {
   "cell_type": "markdown",
   "metadata": {},
   "source": [
    "<div class=\"alert alert-block alert-warning\">\n",
    "<b>Комментарий:</b> По полученным данным, можно дать следующие советы, если бизнесу важна маскимальная прибыль, то есть смысл попытать удачу и выбрать 3 регион, в котором мы можем получить прибыль до 10979 млрд., если нам необходимо просто заработать более чем 10000 млрд., то лучше выбрать 2 регион, а регион №1 уступает по всем параметрам\n",
    "\n",
    "</div>"
   ]
  },
  {
   "cell_type": "code",
   "execution_count": null,
   "metadata": {},
   "outputs": [],
   "source": []
  },
  {
   "cell_type": "markdown",
   "metadata": {},
   "source": [
    "<div style=\"background: #cceeaa; padding: 5px; border: 1px solid green; border-radius: 5px;\">\n",
    "<font color='green'> \n",
    "    <b><u>КОММЕНТАРИЙ РЕВЬЮЕРА 2</u></b>\n",
    "<font color='green'><br>Георгий, привет. С доработками - ОК. Теперь расчёт тот, что нужен. Только вывод, наверное, старый у тебя остался - вроде второй регион у нас наиболее выгодный - и по прибыли и по рискам: 518 млн. по деньгам и риски при этом менее 1%.<br>\n",
    "А так - всё ОК.<br>    \n",
    "УСПЕШНОГО ДАЛЬНЕЙШЕГО ОБУЧЕНИЯ!"
   ]
  },
  {
   "cell_type": "code",
   "execution_count": null,
   "metadata": {},
   "outputs": [],
   "source": []
  },
  {
   "cell_type": "markdown",
   "metadata": {},
   "source": [
    "<div style=\"background: #cceeaa; padding: 5px; border: 1px solid green; border-radius: 5px;\">\n",
    "<font color='green'> \n",
    "    <b><u>КОММЕНТАРИЙ РЕВЬЮЕРА</u></b>\n",
    "<font color='green'><br>\n",
    "Георгий, на самом деле очень последовательная работа!<br>\n",
    "И аргументация, и удобный для просмотра код - многое удалось как надо<br>\n",
    "Итоги в конце - понятные и чёткие. Хорошо, что довериетльные интервала взял те, которые нужны, ОК.<br>\n",
    "      \n",
    "Данный проект не простой, может показаться. Потому что, его цель не просто построить прогноз по модели или прогноз продаж. А научиться выбирать лучшее управленческое решение на основе метода моделирования ситуации. В этом ключе и есть смысл её рассматривать. (Кстати, одна из программ на рынке по этой теме - AnyLogic - интересный продукт. Мне приходилось как-то смотерть её.. интересно. Можешь ролик из инета глянуть по какому-нибудь примеру с её использованием. Тогда тема управленческого моделирования может по-другому лечь... Ведь бутсреп (в лоджике егое нет) - как раз один из спобов моделирования)<br>    \n",
    "\n",
    "<font color='red'>    \n",
    "Есть несколько моментом, которые надо бы проверить:<br>\n",
    "1) проверить размерность бюджета<br>\n",
    "2) индексация таргета: в твоём коде - вставил комментарии, посмотри, пожалуйта.<br>\n",
    "3) В функции бутстрепа - там подача целевой и предикта не в том порядке, что функция прибыли будет ждать... Лучше изменить...<br>\n",
    "\n",
    "<font color='green'>    \n",
    "Спасибо)<br>\n",
    "Буду ждать комментариев)"
   ]
  },
  {
   "cell_type": "markdown",
   "metadata": {},
   "source": [
    "## Чек-лист готовности проекта"
   ]
  },
  {
   "cell_type": "markdown",
   "metadata": {},
   "source": [
    "Поставьте 'x' в выполненных пунктах. Далее нажмите Shift+Enter."
   ]
  },
  {
   "cell_type": "markdown",
   "metadata": {},
   "source": [
    "- [x]  Jupyter Notebook открыт\n",
    "- [ ]  Весь код выполняется без ошибок\n",
    "- [ ]  Ячейки с кодом расположены в порядке исполнения\n",
    "- [ ]  Выполнен шаг 1: данные подготовлены\n",
    "- [ ]  Выполнен шаг 2: модели обучены и проверены\n",
    "    - [ ]  Данные корректно разбиты на обучающую и валидационную выборки\n",
    "    - [ ]  Модели обучены, предсказания сделаны\n",
    "    - [ ]  Предсказания и правильные ответы на валидационной выборке сохранены\n",
    "    - [ ]  На экране напечатаны результаты\n",
    "    - [ ]  Сделаны выводы\n",
    "- [ ]  Выполнен шаг 3: проведена подготовка к расчёту прибыли\n",
    "    - [ ]  Для всех ключевых значений созданы константы Python\n",
    "    - [ ]  Посчитано минимальное среднее количество продукта в месторождениях региона, достаточное для разработки\n",
    "    - [ ]  По предыдущему пункту сделаны выводы\n",
    "    - [ ]  Написана функция расчёта прибыли\n",
    "- [ ]  Выполнен шаг 4: посчитаны риски и прибыль\n",
    "    - [ ]  Проведена процедура *Bootstrap*\n",
    "    - [ ]  Все параметры бутстрепа соответствуют условию\n",
    "    - [ ]  Найдены все нужные величины\n",
    "    - [ ]  Предложен регион для разработки месторождения\n",
    "    - [ ]  Выбор региона обоснован"
   ]
  },
  {
   "cell_type": "code",
   "execution_count": null,
   "metadata": {},
   "outputs": [],
   "source": []
  }
 ],
 "metadata": {
  "kernelspec": {
   "display_name": "Python 3",
   "language": "python",
   "name": "python3"
  },
  "language_info": {
   "codemirror_mode": {
    "name": "ipython",
    "version": 3
   },
   "file_extension": ".py",
   "mimetype": "text/x-python",
   "name": "python",
   "nbconvert_exporter": "python",
   "pygments_lexer": "ipython3",
   "version": "3.7.8"
  },
  "toc": {
   "base_numbering": 1,
   "nav_menu": {},
   "number_sections": true,
   "sideBar": true,
   "skip_h1_title": true,
   "title_cell": "Table of Contents",
   "title_sidebar": "Contents",
   "toc_cell": false,
   "toc_position": {},
   "toc_section_display": true,
   "toc_window_display": false
  }
 },
 "nbformat": 4,
 "nbformat_minor": 2
}
